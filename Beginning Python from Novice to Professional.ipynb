{
 "cells": [
  {
   "cell_type": "markdown",
   "metadata": {},
   "source": [
    "* python 2.7 在处理中文编码时偶尔会有问题， python3就没有这样的问题 "
   ]
  },
  {
   "cell_type": "markdown",
   "metadata": {},
   "source": [
    "人名卡：\n",
    "\n",
    "[图灵](https://en.wikipedia.org/wiki/Alan_Turing)  the father of theoretical computer science and AI\n",
    "\n",
    "[李飞飞](https://en.wikipedia.org/wiki/Fei-Fei_Li)\n",
    "\n",
    "[二战中的女程序员](https://zhuanlan.zhihu.com/p/30427951) ENIAC 软件工程\n"
   ]
  },
  {
   "cell_type": "markdown",
   "metadata": {},
   "source": [
    "# 1列表 和元组\n",
    "\n",
    "- 可以把列表想象成一个容器，用来存放一组数据\n",
    "\n",
    "## 1.1 概览\n",
    "列表可以修改，元组则不能修改"
   ]
  },
  {
   "cell_type": "code",
   "execution_count": 4,
   "metadata": {},
   "outputs": [
    {
     "data": {
      "text/plain": [
       "[['Edward Gumby', 42], ['John Smith', 50]]"
      ]
     },
     "execution_count": 4,
     "metadata": {},
     "output_type": "execute_result"
    }
   ],
   "source": [
    "edward = ['Edward Gumby', 42]\n",
    "john = ['John Smith', 50]\n",
    "database = [edward, john]\n",
    "database"
   ]
  },
  {
   "cell_type": "markdown",
   "metadata": {},
   "source": [
    "## 1.2 操作\n",
    "\n",
    "### indexing"
   ]
  },
  {
   "cell_type": "code",
   "execution_count": 12,
   "metadata": {},
   "outputs": [
    {
     "data": {
      "text/plain": [
       "'e'"
      ]
     },
     "execution_count": 12,
     "metadata": {},
     "output_type": "execute_result"
    }
   ],
   "source": [
    "greeting = 'Hello'\n",
    "greeting[0]\n",
    "greeting[-1]\n",
    "greeting[3]\n",
    "'Hello'[1]"
   ]
  },
  {
   "cell_type": "code",
   "execution_count": 2,
   "metadata": {
    "scrolled": true
   },
   "outputs": [
    {
     "name": "stdout",
     "output_type": "stream",
     "text": [
      "year:2013\n",
      "Month(1-12):1\n",
      "Day(1-31):1\n",
      "JanuaryFebruaryMarchAprilMayJaneJulyAugustSeptermberOctoberNovemberDecember1st.2013\n"
     ]
    }
   ],
   "source": [
    "# make a list with name of months \n",
    "months = [\n",
    "    'January'\n",
    "    'February'\n",
    "    'March'\n",
    "    'April'\n",
    "    'May'\n",
    "    'Jane'\n",
    "    'July'\n",
    "    'August'\n",
    "    'Septermber'\n",
    "    'October'\n",
    "    'November'\n",
    "    'December']\n",
    "\n",
    "# a list ending with num 1-31 \n",
    "endings = ['st', 'nd', 'rd'] + 17*['th'] \\\n",
    "       + ['st', 'nd', 'rd'] + 7 * ['th'] \\\n",
    "       + ['st']\n",
    "\n",
    "year = raw_input('year:')\n",
    "month = raw_input('Month(1-12):')\n",
    "day = raw_input('Day(1-31):')\n",
    "\n",
    "month_number = int (month)\n",
    "day_number = int(day)\n",
    "\n",
    "month_name = months[month_number -1]\n",
    "ordinal = day + endings[day_number -1]\n",
    "\n",
    "print month_name + '' + ordinal + '.' + year"
   ]
  },
  {
   "cell_type": "markdown",
   "metadata": {},
   "source": [
    " 分片示例"
   ]
  },
  {
   "cell_type": "code",
   "execution_count": 7,
   "metadata": {},
   "outputs": [
    {
     "name": "stdout",
     "output_type": "stream",
     "text": [
      "please enter the URL:www.google.com\n",
      "Domain name:google\n"
     ]
    }
   ],
   "source": [
    "url = raw_input('please enter the URL:')\n",
    "domain = url[4:-4]\n",
    "\n",
    "print \"Domain name:\" + domain"
   ]
  },
  {
   "cell_type": "code",
   "execution_count": 9,
   "metadata": {},
   "outputs": [
    {
     "data": {
      "text/plain": [
       "[1, 3, 5, 7, 9]"
      ]
     },
     "execution_count": 9,
     "metadata": {},
     "output_type": "execute_result"
    }
   ],
   "source": [
    "#set step length = 2\n",
    "numbers= [1,2,3,4,5,6,7,8,9,10]\n",
    "numbers[0:10:2]"
   ]
  },
  {
   "cell_type": "code",
   "execution_count": 13,
   "metadata": {},
   "outputs": [
    {
     "data": {
      "text/plain": [
       "[42, 42, 42, 42, 42, 42, 42, 42, 42, 42]"
      ]
     },
     "execution_count": 13,
     "metadata": {},
     "output_type": "execute_result"
    }
   ],
   "source": [
    "#multiplus\n",
    "'python'*5\n",
    "42 *10\n",
    "[42]*10\n"
   ]
  },
  {
   "cell_type": "code",
   "execution_count": 9,
   "metadata": {},
   "outputs": [
    {
     "name": "stdout",
     "output_type": "stream",
     "text": [
      "sentence:\n",
      "\n",
      "+----+\n",
      "||\n",
      "||\n",
      "||\n",
      "+----+\n"
     ]
    }
   ],
   "source": [
    "sentence = raw_input(\"sentence:\")\n",
    "\n",
    "screen_width = 80\n",
    "text_width = len(sentence)\n",
    "box_width = text_width + 6\n",
    "left_margin = (screen_width - box_width) / 2\n",
    "\n",
    "print\n",
    "print '' * left_margin + \"+\" + \"-\"* (box_width -2) + \"+\"\n",
    "print '' * left_margin + \"|\" + \"\" * text_width     + \"|\"\n",
    "print '' * left_margin + \"|\" +  sentence           + \"|\"\n",
    "print '' * left_margin + \"|\" + \"\" * text_width     + \"|\"\n",
    "print '' * left_margin + \"+\" + \"-\"* (box_width -2) + \"+\""
   ]
  },
  {
   "cell_type": "markdown",
   "metadata": {},
   "source": [
    " * in  成员序列资格 "
   ]
  },
  {
   "cell_type": "code",
   "execution_count": 14,
   "metadata": {},
   "outputs": [
    {
     "data": {
      "text/plain": [
       "False"
      ]
     },
     "execution_count": 14,
     "metadata": {},
     "output_type": "execute_result"
    }
   ],
   "source": [
    "# assignment named permission, check values in permission\n",
    "permission = 'rw'\n",
    "'w' in permission\n",
    "\n",
    "'x' in permission"
   ]
  },
  {
   "cell_type": "code",
   "execution_count": 15,
   "metadata": {},
   "outputs": [
    {
     "name": "stdout",
     "output_type": "stream",
     "text": [
      "Enter your user name: \n"
     ]
    },
    {
     "data": {
      "text/plain": [
       "False"
      ]
     },
     "execution_count": 15,
     "metadata": {},
     "output_type": "execute_result"
    }
   ],
   "source": [
    "users = ['mlh', 'foo', 'bar']\n",
    "raw_input('Enter your user name: ') in users\n",
    "\n"
   ]
  },
  {
   "cell_type": "code",
   "execution_count": 13,
   "metadata": {},
   "outputs": [
    {
     "data": {
      "text/plain": [
       "True"
      ]
     },
     "execution_count": 13,
     "metadata": {},
     "output_type": "execute_result"
    }
   ],
   "source": [
    "# split spam\n",
    "subject = ' $$$ Get rich now!!! $$$'\n",
    "'$$$' in subject"
   ]
  },
  {
   "cell_type": "code",
   "execution_count": 16,
   "metadata": {},
   "outputs": [
    {
     "name": "stdout",
     "output_type": "stream",
     "text": [
      "User name: dibert\n",
      "Pin code: 4242\n",
      "Acsess granted\n"
     ]
    }
   ],
   "source": [
    "#  to check username & pin\n",
    "\n",
    "database = [\n",
    "    ['Albert', '1234'],\n",
    "    ['dibert', '4242'],\n",
    "    ['smith', '7524'],\n",
    "    ['jones', '9843']\n",
    "]\n",
    "\n",
    "username = raw_input('User name: ')\n",
    "pin = raw_input(\"Pin code: \")\n",
    "\n",
    "if [username, pin] in database:\n",
    "    print 'Acsess granted'\n",
    "else:\n",
    "    print 'none '"
   ]
  },
  {
   "cell_type": "markdown",
   "metadata": {},
   "source": [
    "* length \\ max\\min"
   ]
  },
  {
   "cell_type": "code",
   "execution_count": 21,
   "metadata": {},
   "outputs": [
    {
     "data": {
      "text/plain": [
       "6"
      ]
     },
     "execution_count": 21,
     "metadata": {},
     "output_type": "execute_result"
    }
   ],
   "source": [
    "num = [100, 34, 876]\n",
    "len(num)\n",
    "max(num)\n",
    "min(num)\n",
    "max(3, 6)"
   ]
  },
  {
   "cell_type": "code",
   "execution_count": null,
   "metadata": {
    "collapsed": true
   },
   "outputs": [],
   "source": []
  }
 ],
 "metadata": {
  "kernelspec": {
   "display_name": "Python 2",
   "language": "python",
   "name": "python2"
  },
  "language_info": {
   "codemirror_mode": {
    "name": "ipython",
    "version": 2
   },
   "file_extension": ".py",
   "mimetype": "text/x-python",
   "name": "python",
   "nbconvert_exporter": "python",
   "pygments_lexer": "ipython2",
   "version": "2.7.13"
  }
 },
 "nbformat": 4,
 "nbformat_minor": 2
}
