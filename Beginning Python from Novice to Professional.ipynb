{
 "cells": [
  {
   "cell_type": "markdown",
   "metadata": {},
   "source": [
    "* python 2.7 在处理中文编码时偶尔会有问题， python3就没有这样的问题 "
   ]
  },
  {
   "cell_type": "markdown",
   "metadata": {},
   "source": [
    "人名卡：\n",
    "\n",
    "[图灵](https://en.wikipedia.org/wiki/Alan_Turing)  the father of theoretical computer science and AI\n",
    "\n",
    "[李飞飞](https://en.wikipedia.org/wiki/Fei-Fei_Li)\n",
    "\n",
    "[二战中的女程序员](https://zhuanlan.zhihu.com/p/30427951) ENIAC 软件工程\n"
   ]
  },
  {
   "cell_type": "markdown",
   "metadata": {},
   "source": [
    "# 1列表 和元组\n",
    "\n",
    "- 可以把列表想象成一个容器，用来存放一组数据\n",
    "\n",
    "## 1.1 概览\n",
    "列表可以修改，元组则不能修改"
   ]
  },
  {
   "cell_type": "code",
   "execution_count": 4,
   "metadata": {},
   "outputs": [
    {
     "data": {
      "text/plain": [
       "[['Edward Gumby', 42], ['John Smith', 50]]"
      ]
     },
     "execution_count": 4,
     "metadata": {},
     "output_type": "execute_result"
    }
   ],
   "source": [
    "edward = ['Edward Gumby', 42]\n",
    "john = ['John Smith', 50]\n",
    "database = [edward, john]\n",
    "database"
   ]
  },
  {
   "cell_type": "markdown",
   "metadata": {},
   "source": [
    "## 1.2 操作\n",
    "\n",
    "### indexing"
   ]
  },
  {
   "cell_type": "code",
   "execution_count": 12,
   "metadata": {},
   "outputs": [
    {
     "data": {
      "text/plain": [
       "'e'"
      ]
     },
     "execution_count": 12,
     "metadata": {},
     "output_type": "execute_result"
    }
   ],
   "source": [
    "greeting = 'Hello'\n",
    "greeting[0]\n",
    "greeting[-1]\n",
    "greeting[3]\n",
    "'Hello'[1]"
   ]
  },
  {
   "cell_type": "code",
   "execution_count": 21,
   "metadata": {},
   "outputs": [
    {
     "name": "stdout",
     "output_type": "stream",
     "text": [
      "year:2015\n",
      "Month(1-12):5\n",
      "Day(1-31):12\n"
     ]
    },
    {
     "ename": "IndexError",
     "evalue": "list index out of range",
     "output_type": "error",
     "traceback": [
      "\u001b[0;31m---------------------------------------------------------------------------\u001b[0m",
      "\u001b[0;31mIndexError\u001b[0m                                Traceback (most recent call last)",
      "\u001b[0;32m<ipython-input-21-c0e62aff5865>\u001b[0m in \u001b[0;36m<module>\u001b[0;34m()\u001b[0m\n\u001b[1;32m     24\u001b[0m \u001b[0mday_number\u001b[0m \u001b[0;34m=\u001b[0m \u001b[0mint\u001b[0m\u001b[0;34m(\u001b[0m\u001b[0mday\u001b[0m\u001b[0;34m)\u001b[0m\u001b[0;34m\u001b[0m\u001b[0m\n\u001b[1;32m     25\u001b[0m \u001b[0;34m\u001b[0m\u001b[0m\n\u001b[0;32m---> 26\u001b[0;31m \u001b[0mmonth_name\u001b[0m \u001b[0;34m=\u001b[0m \u001b[0mmonths\u001b[0m\u001b[0;34m[\u001b[0m\u001b[0mmonth_number\u001b[0m \u001b[0;34m-\u001b[0m\u001b[0;36m1\u001b[0m\u001b[0;34m]\u001b[0m\u001b[0;34m\u001b[0m\u001b[0m\n\u001b[0m\u001b[1;32m     27\u001b[0m \u001b[0mordinal\u001b[0m \u001b[0;34m=\u001b[0m \u001b[0mday\u001b[0m \u001b[0;34m+\u001b[0m \u001b[0mendings\u001b[0m\u001b[0;34m[\u001b[0m\u001b[0mday_number\u001b[0m \u001b[0;34m-\u001b[0m\u001b[0;36m1\u001b[0m\u001b[0;34m]\u001b[0m\u001b[0;34m\u001b[0m\u001b[0m\n\u001b[1;32m     28\u001b[0m \u001b[0;34m\u001b[0m\u001b[0m\n",
      "\u001b[0;31mIndexError\u001b[0m: list index out of range"
     ]
    }
   ],
   "source": [
    "# make a list with name of months \n",
    "months = [\n",
    "    'January'\n",
    "    'February'\n",
    "    'March'\n",
    "    'April'\n",
    "    'May'\n",
    "    'Jane'\n",
    "    'July'\n",
    "    'August'\n",
    "    'Septermber'\n",
    "    'October'\n",
    "    'November'\n",
    "    'December']\n",
    "\n",
    "# a list ending with num 1-31 \n",
    "endings = ['st', 'nd', 'rd'] + 17*['th'] \\\n",
    "       + ['st', 'nd', 'rd'] + 7 * ['th'] \\\n",
    "       + ['st']\n",
    "\n",
    "year = raw_input('year:')\n",
    "month = raw_input('Month(1-12):')\n",
    "day = raw_input('Day(1-31):')\n",
    "\n",
    "month_name = int (month)\n",
    "day_number = int(day)\n",
    "\n",
    "month_name = months[month_number -1]\n",
    "ordinal = day + endings[day_number -1]\n",
    "\n",
    "print month_name + '' + ordinal + '.' + year"
   ]
  },
  {
   "cell_type": "code",
   "execution_count": null,
   "metadata": {
    "collapsed": true
   },
   "outputs": [],
   "source": []
  }
 ],
 "metadata": {
  "kernelspec": {
   "display_name": "Python 2",
   "language": "python",
   "name": "python2"
  },
  "language_info": {
   "codemirror_mode": {
    "name": "ipython",
    "version": 2
   },
   "file_extension": ".py",
   "mimetype": "text/x-python",
   "name": "python",
   "nbconvert_exporter": "python",
   "pygments_lexer": "ipython2",
   "version": "2.7.13"
  }
 },
 "nbformat": 4,
 "nbformat_minor": 2
}
