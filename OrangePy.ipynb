{
 "cells": [
  {
   "cell_type": "markdown",
   "metadata": {},
   "source": [
    "# 0. 计算机语言概述\n",
    "\n",
    "## 0.1程序语言我该学哪种\n",
    "\n",
    "新手想学编程，最常问的就是：我该学什么语言？\n",
    "事实是，先找一门程序语言，开始学，开始写代码。\n",
    "\n",
    "## 0.2 程序语言的共性：万变不离其宗\n",
    "\n",
    "### 0.2.1 常见要素\n",
    "1.数据类型：\n",
    "\n",
    "2.变量：*可以把数据类型想象成一个容器*\n",
    "\n",
    "3.函数\n",
    "\n",
    "4.条件语句\n",
    "\n",
    "5.循环语句\n",
    "\n",
    "6.算术运算"
   ]
  },
  {
   "cell_type": "markdown",
   "metadata": {},
   "source": [
    "### 0.2.2机器执行指令的方法：直接\n",
    "*机器和人的不同：机器执行语言是按照指令*\n",
    "\n",
    "> Computers are super literal.\n",
    "              - Saujani Reshma, Girls Who Code\n",
    "              \n",
    "- 假设你有一台拟人化的计算机，我们叫他K-9\n",
    "  \n",
    "  晚上回家，你渴了，你对他说，K-9拿杯水过来。\n",
    "  等了半小时，还不见他踪影，你跑过去看，这货竟然还在满屋子找水在哪里？\n",
    "  K-9：主人，搜索水中...\n",
    "  \n",
    "  那么正确姿势该是什么呢？\n",
    "  \n",
    "  你：K-9，走到水壶面前，拿起杯子，\n",
    "    `打开水壶\n",
    "       if 水壶里有水:\n",
    "          倒水到杯子2/3处\n",
    "       else：\n",
    "       拿起水壶，走到自来水管，接水到...... \n",
    "       `\n",
    "   你会说，等等，要你何用，还是本宫自己来吧。\n",
    " "
   ]
  },
  {
   "cell_type": "markdown",
   "metadata": {},
   "source": [
    "###  0.2.2 算法(Algorithm)\n",
    "\n",
    "前面说到，算法，正是K-9需要的东西。简单说，算法就是用来完成一项特定任务的一组指令，别忘了，这组指令是有特定次序的。\n",
    "\n",
    "设定正确倒水姿势，送到面前就是K-9需要的算法。\n",
    "\n",
    "编好倒水指令，此时，坐在沙发上，对K-9说，K-9拿一杯水来给我。终于可以享受女王的待遇了！\n",
    "\n",
    "这待遇明天还可以用吗？存储算法（随时存储是个好习惯。），明天继续，K-9服务一如既往。毕竟计算机对重复的事情一向任劳任怨。\n",
    "\n",
    "PS：计算机擅于重复、存储"
   ]
  },
  {
   "cell_type": "markdown",
   "metadata": {},
   "source": [
    "python 语言包含六个序列的内置类型\n",
    "\n",
    "**计算机的世界所有编号都是从0开始的**"
   ]
  },
  {
   "cell_type": "code",
   "execution_count": 1,
   "metadata": {},
   "outputs": [
    {
     "name": "stdout",
     "output_type": "stream",
     "text": [
      "list1[0]: cat\n",
      "list2[1:3]: [6, 7]\n"
     ]
    }
   ],
   "source": [
    "#!/usr/bin/env python\n",
    "#coding:utf-8\n",
    "\n",
    "list1 = ['cat', 'dog', 100, 200];\n",
    "list2 = [5,6,7,8,9];\n",
    "\n",
    "print(\"list1[0]:\", list1[0])\n",
    "print(\"list2[1:3]:\", list2[1:3])"
   ]
  },
  {
   "cell_type": "markdown",
   "metadata": {},
   "source": [
    "- 列表内元素类型，可以是数字、字符串等，\n",
    "- 修改或更新列表可以用append()"
   ]
  },
  {
   "cell_type": "code",
   "execution_count": 12,
   "metadata": {},
   "outputs": [
    {
     "name": "stdout",
     "output_type": "stream",
     "text": [
      "一次更新： ['apple', 'iphone', 2016, 2017]\n",
      "二次更新： ['apple', 'iphone', 2015, 2017, 2018]\n"
     ]
    }
   ],
   "source": [
    "#!/usr/bin/env python\n",
    "#coding:utf-8\n",
    "\n",
    "list = ['apple', 'iphone', 2016,2017];\n",
    "print(f'一次更新：',list)\n",
    "list[2] = 2015;\n",
    "list.append(2018);\n",
    "print(f'二次更新：',list)"
   ]
  },
  {
   "cell_type": "markdown",
   "metadata": {},
   "source": [
    "- del删除列表元素"
   ]
  },
  {
   "cell_type": "code",
   "execution_count": 15,
   "metadata": {
    "scrolled": true
   },
   "outputs": [
    {
     "name": "stdout",
     "output_type": "stream",
     "text": [
      "初始列表： ['apple', 'iphone', 2016, 2017]\n",
      "删除之后： ['apple', 'iphone', 2017]\n"
     ]
    }
   ],
   "source": [
    "#!/usr/bin/env python\n",
    "#coding:utf-8\n",
    "\n",
    "list = ['apple', 'iphone', 2016, 2017];\n",
    "print(f'初始列表：',list)\n",
    "del list[2];\n",
    "print(f'删除之后：',list)"
   ]
  },
  {
   "cell_type": "code",
   "execution_count": null,
   "metadata": {
    "collapsed": true
   },
   "outputs": [],
   "source": []
  },
  {
   "cell_type": "markdown",
   "metadata": {},
   "source": [
    "# python 8\n",
    "\n",
    "- 元组：**元组中元素不能改变**；\n",
    "\n",
    "eg:\n",
    "`tup1 = ('apple','iphone', 2016)\n",
    "tup2=(55,66,77,88,99)\n",
    "tup = 'x', 'y','z'`"
   ]
  },
  {
   "cell_type": "markdown",
   "metadata": {},
   "source": [
    "`tup = ()` *空元组也是可以的*"
   ]
  },
  {
   "cell_type": "markdown",
   "metadata": {},
   "source": [
    "`tup = (42,)`"
   ]
  },
  {
   "cell_type": "code",
   "execution_count": 21,
   "metadata": {},
   "outputs": [
    {
     "name": "stdout",
     "output_type": "stream",
     "text": [
      "(1, 2, 3, 'apple', 'orange')\n"
     ]
    }
   ],
   "source": [
    "#!/usr/bin/env python\n",
    "#coding:utf-8\n",
    "\n",
    "tup1 = (1,2,3);\n",
    "tup2 = ('apple', 'orange');\n",
    "\n",
    "# 元组中的元素不可以被修改的\n",
    "# 下面这样写程序会出错\n",
    "# tup11[0] = 100;\n",
    "\n",
    "# 创建一个新的元组\n",
    "tup3 = tup1 + tup2;\n",
    "print(tup3)"
   ]
  },
  {
   "cell_type": "code",
   "execution_count": 22,
   "metadata": {},
   "outputs": [
    {
     "name": "stdout",
     "output_type": "stream",
     "text": [
      "('apple', 'orange', 'milk')\n",
      "执行完 del 后的 tup:\n"
     ]
    },
    {
     "ename": "NameError",
     "evalue": "name 'tup' is not defined",
     "output_type": "error",
     "traceback": [
      "\u001b[0;31m---------------------------------------------------------------------------\u001b[0m",
      "\u001b[0;31mNameError\u001b[0m                                 Traceback (most recent call last)",
      "\u001b[0;32m<ipython-input-22-0fdc650e58a6>\u001b[0m in \u001b[0;36m<module>\u001b[0;34m()\u001b[0m\n\u001b[1;32m      6\u001b[0m \u001b[0;32mdel\u001b[0m \u001b[0mtup\u001b[0m\u001b[0;34m\u001b[0m\u001b[0m\n\u001b[1;32m      7\u001b[0m \u001b[0mprint\u001b[0m\u001b[0;34m(\u001b[0m\u001b[0;34mf'执行完 del 后的 tup:'\u001b[0m\u001b[0;34m)\u001b[0m\u001b[0;34m\u001b[0m\u001b[0m\n\u001b[0;32m----> 8\u001b[0;31m \u001b[0mprint\u001b[0m\u001b[0;34m(\u001b[0m\u001b[0mtup\u001b[0m\u001b[0;34m)\u001b[0m\u001b[0;34m\u001b[0m\u001b[0m\n\u001b[0m",
      "\u001b[0;31mNameError\u001b[0m: name 'tup' is not defined"
     ]
    }
   ],
   "source": [
    "#!/usr/bin/env  python\n",
    "#coding:utf-8\n",
    "\n",
    "tup = ('apple', 'orange','milk');\n",
    "print(tup)\n",
    "del tup\n",
    "print(f'执行完 del 后的 tup:')\n",
    "print(tup)"
   ]
  },
  {
   "cell_type": "markdown",
   "metadata": {},
   "source": [
    "`for x in (1,2,3):print x` \n",
    "遍历一个元组的元素"
   ]
  },
  {
   "cell_type": "markdown",
   "metadata": {},
   "source": []
  },
  {
   "cell_type": "markdown",
   "metadata": {},
   "source": [
    "# p9 字典\n",
    "\n",
    "字典是一种**数据类型**\n",
    "`dict={key1: value1,key2: value2 }`\n",
    "*Key是唯一的，值可以不唯一*"
   ]
  },
  {
   "cell_type": "code",
   "execution_count": 24,
   "metadata": {},
   "outputs": [
    {
     "name": "stdout",
     "output_type": "stream",
     "text": [
      "dict['Name']: Jane\n",
      "dict['Hobby']: Code\n"
     ]
    }
   ],
   "source": [
    "#!/usr/bin/env python\n",
    "#coding:utf-8\n",
    "\n",
    "dict = {'Name':'Jane', 'Sex': 'Female', 'Hobby':'Code'}\n",
    "\n",
    "print(\"dict['Name']:\", dict['Name'])\n",
    "print(\"dict['Hobby']:\", dict['Hobby'])"
   ]
  },
  {
   "cell_type": "code",
   "execution_count": 25,
   "metadata": {},
   "outputs": [
    {
     "name": "stdout",
     "output_type": "stream",
     "text": [
      "dict['Name']: Lisa\n"
     ]
    }
   ],
   "source": [
    "#!/usr/bin/env python\n",
    "#coding:utf-8\n",
    "\n",
    "dict = {'Name':'Jane', 'Sex': 'Female', 'Hobby':'Code'}\n",
    "dict['Name'] = 'Lisa' #修改字典\n",
    "print(\"dict['Name']:\", dict['Name'])"
   ]
  },
  {
   "cell_type": "code",
   "execution_count": 30,
   "metadata": {
    "scrolled": true
   },
   "outputs": [
    {
     "name": "stdout",
     "output_type": "stream",
     "text": [
      "dict['Name']: Jane\n",
      "dict['School']: CXY School\n",
      "{'Name': 'Jane', 'Hobby': 'Code', 'School': 'CXY School'}\n",
      "{}\n"
     ]
    }
   ],
   "source": [
    "#!/usr/bin/env python\n",
    "#coding:utf-8\n",
    "\n",
    "dict = {'Name':'Jane', 'Sex': 'Female', 'Hobby':'Code'}\n",
    "dict['School'] = 'CXY School' #添加新key\n",
    "del dict['Sex'] # 删除字典Key\n",
    "\n",
    "print(\"dict['Name']:\", dict['Name'])\n",
    "print(\"dict['School']:\", dict['School'])\n",
    "print(dict)  # 显示整个字典\n",
    "\n",
    "dict.clear() #清空字典\n",
    "print(dict)"
   ]
  },
  {
   "cell_type": "markdown",
   "metadata": {},
   "source": [
    "**字典注意事项**\n",
    "\n",
    "- key值是唯一的，有相同key时，最后一个会覆盖前面的值\n",
    "\n",
    "- key的类型必须是不可变的，如数字或字符串\n"
   ]
  },
  {
   "cell_type": "markdown",
   "metadata": {},
   "source": [
    "# p10 时间和日期\n",
    "\n",
    "- 导入时间模块\n",
    "[时间戳](https://www.bbsmax.com/A/A7zgYKxl54/)"
   ]
  },
  {
   "cell_type": "code",
   "execution_count": 33,
   "metadata": {},
   "outputs": [
    {
     "name": "stdout",
     "output_type": "stream",
     "text": [
      "1503496063.925996\n"
     ]
    }
   ],
   "source": [
    "#!/usr/bin/env python\n",
    "\n",
    "import time  # 导入时间模块\n",
    "print(time.time())"
   ]
  },
  {
   "cell_type": "code",
   "execution_count": 34,
   "metadata": {},
   "outputs": [
    {
     "name": "stdout",
     "output_type": "stream",
     "text": [
      "time.struct_time(tm_year=2017, tm_mon=8, tm_mday=23, tm_hour=21, tm_min=50, tm_sec=3, tm_wday=2, tm_yday=235, tm_isdst=0)\n"
     ]
    }
   ],
   "source": [
    "#!/usr/bin/env python\n",
    "\n",
    "import time\n",
    "print(time.localtime(time.time())) #导入当地时间"
   ]
  },
  {
   "cell_type": "code",
   "execution_count": 37,
   "metadata": {},
   "outputs": [
    {
     "name": "stdout",
     "output_type": "stream",
     "text": [
      "     July 2017\n",
      "Mo Tu We Th Fr Sa Su\n",
      "                1  2\n",
      " 3  4  5  6  7  8  9\n",
      "10 11 12 13 14 15 16\n",
      "17 18 19 20 21 22 23\n",
      "24 25 26 27 28 29 30\n",
      "31\n",
      "\n"
     ]
    }
   ],
   "source": [
    "#！／usr/bin/env python\n",
    "\n",
    "import calendar\n",
    "print(calendar.month(2017,7))"
   ]
  },
  {
   "cell_type": "code",
   "execution_count": 38,
   "metadata": {},
   "outputs": [
    {
     "name": "stdout",
     "output_type": "stream",
     "text": [
      "     July 2017\n",
      "Mo Tu We Th Fr Sa Su\n",
      "                1  2\n",
      " 3  4  5  6  7  8  9\n",
      "10 11 12 13 14 15 16\n",
      "17 18 19 20 21 22 23\n",
      "24 25 26 27 28 29 30\n",
      "31\n",
      "\n"
     ]
    }
   ],
   "source": [
    "#!/usr/bin/env python\n",
    "#coding:utf-8\n",
    "\n",
    "import calendar\n",
    "\n",
    "cal = calendar.month(2017,7)\n",
    "print(cal);"
   ]
  },
  {
   "cell_type": "markdown",
   "metadata": {},
   "source": [
    "**Q: 通过日历模块显示今天是星期几？**\n"
   ]
  },
  {
   "cell_type": "code",
   "execution_count": null,
   "metadata": {
    "collapsed": true
   },
   "outputs": [],
   "source": []
  }
 ],
 "metadata": {
  "kernelspec": {
   "display_name": "Python 3",
   "language": "python",
   "name": "python3"
  },
  "language_info": {
   "codemirror_mode": {
    "name": "ipython",
    "version": 3
   },
   "file_extension": ".py",
   "mimetype": "text/x-python",
   "name": "python",
   "nbconvert_exporter": "python",
   "pygments_lexer": "ipython3",
   "version": "3.6.1"
  }
 },
 "nbformat": 4,
 "nbformat_minor": 2
}
